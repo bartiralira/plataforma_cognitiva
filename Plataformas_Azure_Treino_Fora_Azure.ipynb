{
  "nbformat": 4,
  "nbformat_minor": 0,
  "metadata": {
    "colab": {
      "name": "Plataformas Azure - Treino Fora Azure.ipynb",
      "provenance": [],
      "collapsed_sections": [],
      "toc_visible": true
    },
    "kernelspec": {
      "name": "python3",
      "display_name": "Python 3"
    }
  },
  "cells": [
    {
      "cell_type": "markdown",
      "metadata": {
        "id": "QHXfLH6mHbdP"
      },
      "source": [
        "#Setup"
      ]
    },
    {
      "cell_type": "code",
      "metadata": {
        "id": "g3vQzVdzHczA",
        "colab": {
          "base_uri": "https://localhost:8080/"
        },
        "outputId": "be1318b1-1c73-4730-b3fc-ca0e6d3ec497"
      },
      "source": [
        "!git clone https://github.com/elthonf/azure-ml.git"
      ],
      "execution_count": 1,
      "outputs": [
        {
          "output_type": "stream",
          "name": "stdout",
          "text": [
            "Cloning into 'azure-ml'...\n",
            "remote: Enumerating objects: 105, done.\u001b[K\n",
            "remote: Counting objects: 100% (105/105), done.\u001b[K\n",
            "remote: Compressing objects: 100% (69/69), done.\u001b[K\n",
            "remote: Total 105 (delta 41), reused 83 (delta 24), pack-reused 0\u001b[K\n",
            "Receiving objects: 100% (105/105), 6.01 MiB | 22.46 MiB/s, done.\n",
            "Resolving deltas: 100% (41/41), done.\n"
          ]
        }
      ]
    },
    {
      "cell_type": "code",
      "metadata": {
        "id": "60ri7Q546f7y",
        "colab": {
          "base_uri": "https://localhost:8080/"
        },
        "outputId": "060ded93-907a-4cfe-b177-66934d593c59"
      },
      "source": [
        "!pip install azureml-core\n",
        "!pip install scikit-learn==0.20.3"
      ],
      "execution_count": 2,
      "outputs": [
        {
          "output_type": "stream",
          "name": "stdout",
          "text": [
            "Collecting azureml-core\n",
            "  Downloading azureml_core-1.33.0.post1-py3-none-any.whl (2.2 MB)\n",
            "\u001b[K     |████████████████████████████████| 2.2 MB 5.1 MB/s \n",
            "\u001b[?25hCollecting docker<5.0.0\n",
            "  Downloading docker-4.4.4-py2.py3-none-any.whl (147 kB)\n",
            "\u001b[K     |████████████████████████████████| 147 kB 58.0 MB/s \n",
            "\u001b[?25hRequirement already satisfied: python-dateutil<3.0.0,>=2.7.3 in /usr/local/lib/python3.7/dist-packages (from azureml-core) (2.8.2)\n",
            "Requirement already satisfied: pytz in /usr/local/lib/python3.7/dist-packages (from azureml-core) (2018.9)\n",
            "Collecting azure-common<2.0.0,>=1.1.12\n",
            "  Downloading azure_common-1.1.27-py2.py3-none-any.whl (12 kB)\n",
            "Requirement already satisfied: urllib3<=1.26.5,>=1.23 in /usr/local/lib/python3.7/dist-packages (from azureml-core) (1.24.3)\n",
            "Requirement already satisfied: contextlib2<1.0.0 in /usr/local/lib/python3.7/dist-packages (from azureml-core) (0.5.5)\n",
            "Collecting azure-mgmt-keyvault<10.0.0,>=0.40.0\n",
            "  Downloading azure_mgmt_keyvault-9.0.0-py2.py3-none-any.whl (312 kB)\n",
            "\u001b[K     |████████████████████████████████| 312 kB 53.4 MB/s \n",
            "\u001b[?25hCollecting msrestazure<=0.6.4,>=0.4.33\n",
            "  Downloading msrestazure-0.6.4-py2.py3-none-any.whl (40 kB)\n",
            "\u001b[K     |████████████████████████████████| 40 kB 5.7 MB/s \n",
            "\u001b[?25hCollecting azure-mgmt-storage<16.0.0,>=1.5.0\n",
            "  Downloading azure_mgmt_storage-11.2.0-py2.py3-none-any.whl (547 kB)\n",
            "\u001b[K     |████████████████████████████████| 547 kB 46.0 MB/s \n",
            "\u001b[?25hCollecting azure-graphrbac<1.0.0,>=0.40.0\n",
            "  Downloading azure_graphrbac-0.61.1-py2.py3-none-any.whl (141 kB)\n",
            "\u001b[K     |████████████████████████████████| 141 kB 71.3 MB/s \n",
            "\u001b[?25hCollecting azure-mgmt-resource<15.0.0,>=1.2.1\n",
            "  Downloading azure_mgmt_resource-13.0.0-py2.py3-none-any.whl (1.3 MB)\n",
            "\u001b[K     |████████████████████████████████| 1.3 MB 73.2 MB/s \n",
            "\u001b[?25hCollecting jsonpickle<3.0.0\n",
            "  Downloading jsonpickle-2.0.0-py2.py3-none-any.whl (37 kB)\n",
            "Collecting azure-mgmt-containerregistry>=2.0.0\n",
            "  Downloading azure_mgmt_containerregistry-8.1.0-py2.py3-none-any.whl (796 kB)\n",
            "\u001b[K     |████████████████████████████████| 796 kB 59.2 MB/s \n",
            "\u001b[?25hRequirement already satisfied: requests<3.0.0,>=2.19.1 in /usr/local/lib/python3.7/dist-packages (from azureml-core) (2.23.0)\n",
            "Collecting ruamel.yaml<0.17.5,>=0.15.35\n",
            "  Downloading ruamel.yaml-0.17.4-py3-none-any.whl (101 kB)\n",
            "\u001b[K     |████████████████████████████████| 101 kB 11.1 MB/s \n",
            "\u001b[?25hCollecting cryptography!=1.9,!=2.0.*,!=2.1.*,!=2.2.*,<4.0.0\n",
            "  Downloading cryptography-3.4.8-cp36-abi3-manylinux_2_24_x86_64.whl (3.0 MB)\n",
            "\u001b[K     |████████████████████████████████| 3.0 MB 51.9 MB/s \n",
            "\u001b[?25hCollecting adal<=1.2.7,>=1.2.0\n",
            "  Downloading adal-1.2.7-py2.py3-none-any.whl (55 kB)\n",
            "\u001b[K     |████████████████████████████████| 55 kB 3.5 MB/s \n",
            "\u001b[?25hCollecting backports.tempfile\n",
            "  Downloading backports.tempfile-1.0-py2.py3-none-any.whl (4.4 kB)\n",
            "Collecting PyJWT<3.0.0\n",
            "  Downloading PyJWT-2.1.0-py3-none-any.whl (16 kB)\n",
            "Collecting azure-mgmt-authorization<1.0.0,>=0.40.0\n",
            "  Downloading azure_mgmt_authorization-0.61.0-py2.py3-none-any.whl (94 kB)\n",
            "\u001b[K     |████████████████████████████████| 94 kB 3.0 MB/s \n",
            "\u001b[?25hCollecting msrest<1.0.0,>=0.5.1\n",
            "  Downloading msrest-0.6.21-py2.py3-none-any.whl (85 kB)\n",
            "\u001b[K     |████████████████████████████████| 85 kB 4.0 MB/s \n",
            "\u001b[?25hCollecting ndg-httpsclient<=0.5.1\n",
            "  Downloading ndg_httpsclient-0.5.1-py3-none-any.whl (34 kB)\n",
            "Collecting SecretStorage<4.0.0\n",
            "  Downloading SecretStorage-3.3.1-py3-none-any.whl (15 kB)\n",
            "Collecting jmespath<1.0.0\n",
            "  Downloading jmespath-0.10.0-py2.py3-none-any.whl (24 kB)\n",
            "Collecting pathspec<1.0.0\n",
            "  Downloading pathspec-0.9.0-py2.py3-none-any.whl (31 kB)\n",
            "Collecting pyopenssl<21.0.0\n",
            "  Downloading pyOpenSSL-20.0.1-py2.py3-none-any.whl (54 kB)\n",
            "\u001b[K     |████████████████████████████████| 54 kB 2.5 MB/s \n",
            "\u001b[?25hCollecting azure-mgmt-core<2.0.0,>=1.2.0\n",
            "  Downloading azure_mgmt_core-1.3.0-py2.py3-none-any.whl (25 kB)\n",
            "Collecting azure-core<2.0.0,>=1.15.0\n",
            "  Downloading azure_core-1.17.0-py2.py3-none-any.whl (165 kB)\n",
            "\u001b[K     |████████████████████████████████| 165 kB 63.1 MB/s \n",
            "\u001b[?25hRequirement already satisfied: six>=1.11.0 in /usr/local/lib/python3.7/dist-packages (from azure-core<2.0.0,>=1.15.0->azure-mgmt-core<2.0.0,>=1.2.0->azure-mgmt-containerregistry>=2.0.0->azureml-core) (1.15.0)\n",
            "Requirement already satisfied: cffi>=1.12 in /usr/local/lib/python3.7/dist-packages (from cryptography!=1.9,!=2.0.*,!=2.1.*,!=2.2.*,<4.0.0->azureml-core) (1.14.6)\n",
            "Requirement already satisfied: pycparser in /usr/local/lib/python3.7/dist-packages (from cffi>=1.12->cryptography!=1.9,!=2.0.*,!=2.1.*,!=2.2.*,<4.0.0->azureml-core) (2.20)\n",
            "Collecting websocket-client>=0.32.0\n",
            "  Downloading websocket_client-1.2.1-py2.py3-none-any.whl (52 kB)\n",
            "\u001b[K     |████████████████████████████████| 52 kB 1.5 MB/s \n",
            "\u001b[?25hRequirement already satisfied: importlib-metadata in /usr/local/lib/python3.7/dist-packages (from jsonpickle<3.0.0->azureml-core) (4.6.4)\n",
            "Collecting isodate>=0.6.0\n",
            "  Downloading isodate-0.6.0-py2.py3-none-any.whl (45 kB)\n",
            "\u001b[K     |████████████████████████████████| 45 kB 3.6 MB/s \n",
            "\u001b[?25hRequirement already satisfied: certifi>=2017.4.17 in /usr/local/lib/python3.7/dist-packages (from msrest<1.0.0,>=0.5.1->azureml-core) (2021.5.30)\n",
            "Requirement already satisfied: requests-oauthlib>=0.5.0 in /usr/local/lib/python3.7/dist-packages (from msrest<1.0.0,>=0.5.1->azureml-core) (1.3.0)\n",
            "Requirement already satisfied: pyasn1>=0.1.1 in /usr/local/lib/python3.7/dist-packages (from ndg-httpsclient<=0.5.1->azureml-core) (0.4.8)\n",
            "Requirement already satisfied: chardet<4,>=3.0.2 in /usr/local/lib/python3.7/dist-packages (from requests<3.0.0,>=2.19.1->azureml-core) (3.0.4)\n",
            "Requirement already satisfied: idna<3,>=2.5 in /usr/local/lib/python3.7/dist-packages (from requests<3.0.0,>=2.19.1->azureml-core) (2.10)\n",
            "Requirement already satisfied: oauthlib>=3.0.0 in /usr/local/lib/python3.7/dist-packages (from requests-oauthlib>=0.5.0->msrest<1.0.0,>=0.5.1->azureml-core) (3.1.1)\n",
            "Collecting ruamel.yaml.clib>=0.1.2\n",
            "  Downloading ruamel.yaml.clib-0.2.6-cp37-cp37m-manylinux1_x86_64.whl (546 kB)\n",
            "\u001b[K     |████████████████████████████████| 546 kB 53.0 MB/s \n",
            "\u001b[?25hCollecting jeepney>=0.6\n",
            "  Downloading jeepney-0.7.1-py3-none-any.whl (54 kB)\n",
            "\u001b[K     |████████████████████████████████| 54 kB 2.6 MB/s \n",
            "\u001b[?25hCollecting backports.weakref\n",
            "  Downloading backports.weakref-1.0.post1-py2.py3-none-any.whl (5.2 kB)\n",
            "Requirement already satisfied: typing-extensions>=3.6.4 in /usr/local/lib/python3.7/dist-packages (from importlib-metadata->jsonpickle<3.0.0->azureml-core) (3.7.4.3)\n",
            "Requirement already satisfied: zipp>=0.5 in /usr/local/lib/python3.7/dist-packages (from importlib-metadata->jsonpickle<3.0.0->azureml-core) (3.5.0)\n",
            "Installing collected packages: PyJWT, isodate, cryptography, msrest, azure-core, adal, websocket-client, ruamel.yaml.clib, pyopenssl, msrestazure, jeepney, backports.weakref, azure-mgmt-core, azure-common, SecretStorage, ruamel.yaml, pathspec, ndg-httpsclient, jsonpickle, jmespath, docker, backports.tempfile, azure-mgmt-storage, azure-mgmt-resource, azure-mgmt-keyvault, azure-mgmt-containerregistry, azure-mgmt-authorization, azure-graphrbac, azureml-core\n",
            "Successfully installed PyJWT-2.1.0 SecretStorage-3.3.1 adal-1.2.7 azure-common-1.1.27 azure-core-1.17.0 azure-graphrbac-0.61.1 azure-mgmt-authorization-0.61.0 azure-mgmt-containerregistry-8.1.0 azure-mgmt-core-1.3.0 azure-mgmt-keyvault-9.0.0 azure-mgmt-resource-13.0.0 azure-mgmt-storage-11.2.0 azureml-core-1.33.0.post1 backports.tempfile-1.0 backports.weakref-1.0.post1 cryptography-3.4.8 docker-4.4.4 isodate-0.6.0 jeepney-0.7.1 jmespath-0.10.0 jsonpickle-2.0.0 msrest-0.6.21 msrestazure-0.6.4 ndg-httpsclient-0.5.1 pathspec-0.9.0 pyopenssl-20.0.1 ruamel.yaml-0.17.4 ruamel.yaml.clib-0.2.6 websocket-client-1.2.1\n",
            "Collecting scikit-learn==0.20.3\n",
            "  Downloading scikit_learn-0.20.3-cp37-cp37m-manylinux1_x86_64.whl (5.4 MB)\n",
            "\u001b[K     |████████████████████████████████| 5.4 MB 5.0 MB/s \n",
            "\u001b[?25hRequirement already satisfied: numpy>=1.8.2 in /usr/local/lib/python3.7/dist-packages (from scikit-learn==0.20.3) (1.19.5)\n",
            "Requirement already satisfied: scipy>=0.13.3 in /usr/local/lib/python3.7/dist-packages (from scikit-learn==0.20.3) (1.4.1)\n",
            "Installing collected packages: scikit-learn\n",
            "  Attempting uninstall: scikit-learn\n",
            "    Found existing installation: scikit-learn 0.22.2.post1\n",
            "    Uninstalling scikit-learn-0.22.2.post1:\n",
            "      Successfully uninstalled scikit-learn-0.22.2.post1\n",
            "Successfully installed scikit-learn-0.20.3\n"
          ]
        }
      ]
    },
    {
      "cell_type": "code",
      "metadata": {
        "id": "DFhjOKPfOsnI",
        "colab": {
          "base_uri": "https://localhost:8080/"
        },
        "outputId": "721c5d59-0513-4fa6-f787-eab88bb5e974"
      },
      "source": [
        "!pip install azureml-dataprep\n",
        "!pip install azureml-dataset-runtime"
      ],
      "execution_count": 3,
      "outputs": [
        {
          "output_type": "stream",
          "name": "stdout",
          "text": [
            "Collecting azureml-dataprep\n",
            "  Downloading azureml_dataprep-2.22.2-py3-none-any.whl (39.4 MB)\n",
            "\u001b[K     |████████████████████████████████| 39.4 MB 1.4 MB/s \n",
            "\u001b[?25hRequirement already satisfied: cloudpickle<2.0.0,>=1.1.0 in /usr/local/lib/python3.7/dist-packages (from azureml-dataprep) (1.3.0)\n",
            "Collecting azure-identity<1.5.0,>=1.2.0\n",
            "  Downloading azure_identity-1.4.1-py2.py3-none-any.whl (86 kB)\n",
            "\u001b[K     |████████████████████████████████| 86 kB 4.6 MB/s \n",
            "\u001b[?25hCollecting dotnetcore2<3.0.0,>=2.1.14\n",
            "  Downloading dotnetcore2-2.1.21-py3-none-manylinux1_x86_64.whl (28.7 MB)\n",
            "\u001b[K     |████████████████████████████████| 28.7 MB 1.3 MB/s \n",
            "\u001b[?25hCollecting azureml-dataprep-rslex~=1.20.0dev0\n",
            "  Downloading azureml_dataprep_rslex-1.20.1-cp37-cp37m-manylinux1_x86_64.whl (10.5 MB)\n",
            "\u001b[K     |████████████████████████████████| 10.5 MB 48.7 MB/s \n",
            "\u001b[?25hCollecting azureml-dataprep-native<39.0.0,>=38.0.0\n",
            "  Downloading azureml_dataprep_native-38.0.0-cp37-cp37m-manylinux1_x86_64.whl (1.3 MB)\n",
            "\u001b[K     |████████████████████████████████| 1.3 MB 59.6 MB/s \n",
            "\u001b[?25hCollecting msal<2.0.0,>=1.3.0\n",
            "  Downloading msal-1.14.0-py2.py3-none-any.whl (75 kB)\n",
            "\u001b[K     |████████████████████████████████| 75 kB 3.9 MB/s \n",
            "\u001b[?25hRequirement already satisfied: cryptography>=2.1.4 in /usr/local/lib/python3.7/dist-packages (from azure-identity<1.5.0,>=1.2.0->azureml-dataprep) (3.4.8)\n",
            "Requirement already satisfied: six>=1.6 in /usr/local/lib/python3.7/dist-packages (from azure-identity<1.5.0,>=1.2.0->azureml-dataprep) (1.15.0)\n",
            "Requirement already satisfied: azure-core<2.0.0,>=1.0.0 in /usr/local/lib/python3.7/dist-packages (from azure-identity<1.5.0,>=1.2.0->azureml-dataprep) (1.17.0)\n",
            "Collecting msal-extensions~=0.2.2\n",
            "  Downloading msal_extensions-0.2.2-py2.py3-none-any.whl (15 kB)\n",
            "Requirement already satisfied: requests>=2.18.4 in /usr/local/lib/python3.7/dist-packages (from azure-core<2.0.0,>=1.0.0->azure-identity<1.5.0,>=1.2.0->azureml-dataprep) (2.23.0)\n",
            "Requirement already satisfied: cffi>=1.12 in /usr/local/lib/python3.7/dist-packages (from cryptography>=2.1.4->azure-identity<1.5.0,>=1.2.0->azureml-dataprep) (1.14.6)\n",
            "Requirement already satisfied: pycparser in /usr/local/lib/python3.7/dist-packages (from cffi>=1.12->cryptography>=2.1.4->azure-identity<1.5.0,>=1.2.0->azureml-dataprep) (2.20)\n",
            "Collecting distro>=1.2.0\n",
            "  Downloading distro-1.6.0-py2.py3-none-any.whl (19 kB)\n",
            "Requirement already satisfied: PyJWT[crypto]<3,>=1.0.0 in /usr/local/lib/python3.7/dist-packages (from msal<2.0.0,>=1.3.0->azure-identity<1.5.0,>=1.2.0->azureml-dataprep) (2.1.0)\n",
            "Collecting portalocker~=1.0\n",
            "  Downloading portalocker-1.7.1-py2.py3-none-any.whl (10 kB)\n",
            "Requirement already satisfied: certifi>=2017.4.17 in /usr/local/lib/python3.7/dist-packages (from requests>=2.18.4->azure-core<2.0.0,>=1.0.0->azure-identity<1.5.0,>=1.2.0->azureml-dataprep) (2021.5.30)\n",
            "Requirement already satisfied: chardet<4,>=3.0.2 in /usr/local/lib/python3.7/dist-packages (from requests>=2.18.4->azure-core<2.0.0,>=1.0.0->azure-identity<1.5.0,>=1.2.0->azureml-dataprep) (3.0.4)\n",
            "Requirement already satisfied: idna<3,>=2.5 in /usr/local/lib/python3.7/dist-packages (from requests>=2.18.4->azure-core<2.0.0,>=1.0.0->azure-identity<1.5.0,>=1.2.0->azureml-dataprep) (2.10)\n",
            "Requirement already satisfied: urllib3!=1.25.0,!=1.25.1,<1.26,>=1.21.1 in /usr/local/lib/python3.7/dist-packages (from requests>=2.18.4->azure-core<2.0.0,>=1.0.0->azure-identity<1.5.0,>=1.2.0->azureml-dataprep) (1.24.3)\n",
            "Installing collected packages: portalocker, msal, msal-extensions, distro, dotnetcore2, azureml-dataprep-rslex, azureml-dataprep-native, azure-identity, azureml-dataprep\n",
            "Successfully installed azure-identity-1.4.1 azureml-dataprep-2.22.2 azureml-dataprep-native-38.0.0 azureml-dataprep-rslex-1.20.1 distro-1.6.0 dotnetcore2-2.1.21 msal-1.14.0 msal-extensions-0.2.2 portalocker-1.7.1\n",
            "Collecting azureml-dataset-runtime\n",
            "  Downloading azureml_dataset_runtime-1.33.0-py3-none-any.whl (3.5 kB)\n",
            "Requirement already satisfied: pyarrow<4.0.0,>=0.17.0 in /usr/local/lib/python3.7/dist-packages (from azureml-dataset-runtime) (3.0.0)\n",
            "Requirement already satisfied: numpy!=1.19.3 in /usr/local/lib/python3.7/dist-packages (from azureml-dataset-runtime) (1.19.5)\n",
            "Collecting azureml-dataprep<2.21.0a,>=2.20.0a\n",
            "  Downloading azureml_dataprep-2.20.1-py3-none-any.whl (39.4 MB)\n",
            "\u001b[K     |████████████████████████████████| 39.4 MB 1.2 MB/s \n",
            "\u001b[?25hRequirement already satisfied: azureml-dataprep-native<39.0.0,>=38.0.0 in /usr/local/lib/python3.7/dist-packages (from azureml-dataprep<2.21.0a,>=2.20.0a->azureml-dataset-runtime) (38.0.0)\n",
            "Requirement already satisfied: cloudpickle<2.0.0,>=1.1.0 in /usr/local/lib/python3.7/dist-packages (from azureml-dataprep<2.21.0a,>=2.20.0a->azureml-dataset-runtime) (1.3.0)\n",
            "Requirement already satisfied: azure-identity<1.5.0,>=1.2.0 in /usr/local/lib/python3.7/dist-packages (from azureml-dataprep<2.21.0a,>=2.20.0a->azureml-dataset-runtime) (1.4.1)\n",
            "Collecting azureml-dataprep-rslex<1.19.0a,>=1.18.0dev0\n",
            "  Downloading azureml_dataprep_rslex-1.18.2-cp37-cp37m-manylinux1_x86_64.whl (10.4 MB)\n",
            "\u001b[K     |████████████████████████████████| 10.4 MB 57.3 MB/s \n",
            "\u001b[?25hRequirement already satisfied: dotnetcore2<3.0.0,>=2.1.14 in /usr/local/lib/python3.7/dist-packages (from azureml-dataprep<2.21.0a,>=2.20.0a->azureml-dataset-runtime) (2.1.21)\n",
            "Requirement already satisfied: cryptography>=2.1.4 in /usr/local/lib/python3.7/dist-packages (from azure-identity<1.5.0,>=1.2.0->azureml-dataprep<2.21.0a,>=2.20.0a->azureml-dataset-runtime) (3.4.8)\n",
            "Requirement already satisfied: azure-core<2.0.0,>=1.0.0 in /usr/local/lib/python3.7/dist-packages (from azure-identity<1.5.0,>=1.2.0->azureml-dataprep<2.21.0a,>=2.20.0a->azureml-dataset-runtime) (1.17.0)\n",
            "Requirement already satisfied: msal<2.0.0,>=1.3.0 in /usr/local/lib/python3.7/dist-packages (from azure-identity<1.5.0,>=1.2.0->azureml-dataprep<2.21.0a,>=2.20.0a->azureml-dataset-runtime) (1.14.0)\n",
            "Requirement already satisfied: msal-extensions~=0.2.2 in /usr/local/lib/python3.7/dist-packages (from azure-identity<1.5.0,>=1.2.0->azureml-dataprep<2.21.0a,>=2.20.0a->azureml-dataset-runtime) (0.2.2)\n",
            "Requirement already satisfied: six>=1.6 in /usr/local/lib/python3.7/dist-packages (from azure-identity<1.5.0,>=1.2.0->azureml-dataprep<2.21.0a,>=2.20.0a->azureml-dataset-runtime) (1.15.0)\n",
            "Requirement already satisfied: requests>=2.18.4 in /usr/local/lib/python3.7/dist-packages (from azure-core<2.0.0,>=1.0.0->azure-identity<1.5.0,>=1.2.0->azureml-dataprep<2.21.0a,>=2.20.0a->azureml-dataset-runtime) (2.23.0)\n",
            "Requirement already satisfied: cffi>=1.12 in /usr/local/lib/python3.7/dist-packages (from cryptography>=2.1.4->azure-identity<1.5.0,>=1.2.0->azureml-dataprep<2.21.0a,>=2.20.0a->azureml-dataset-runtime) (1.14.6)\n",
            "Requirement already satisfied: pycparser in /usr/local/lib/python3.7/dist-packages (from cffi>=1.12->cryptography>=2.1.4->azure-identity<1.5.0,>=1.2.0->azureml-dataprep<2.21.0a,>=2.20.0a->azureml-dataset-runtime) (2.20)\n",
            "Requirement already satisfied: distro>=1.2.0 in /usr/local/lib/python3.7/dist-packages (from dotnetcore2<3.0.0,>=2.1.14->azureml-dataprep<2.21.0a,>=2.20.0a->azureml-dataset-runtime) (1.6.0)\n",
            "Requirement already satisfied: PyJWT[crypto]<3,>=1.0.0 in /usr/local/lib/python3.7/dist-packages (from msal<2.0.0,>=1.3.0->azure-identity<1.5.0,>=1.2.0->azureml-dataprep<2.21.0a,>=2.20.0a->azureml-dataset-runtime) (2.1.0)\n",
            "Requirement already satisfied: portalocker~=1.0 in /usr/local/lib/python3.7/dist-packages (from msal-extensions~=0.2.2->azure-identity<1.5.0,>=1.2.0->azureml-dataprep<2.21.0a,>=2.20.0a->azureml-dataset-runtime) (1.7.1)\n",
            "Requirement already satisfied: idna<3,>=2.5 in /usr/local/lib/python3.7/dist-packages (from requests>=2.18.4->azure-core<2.0.0,>=1.0.0->azure-identity<1.5.0,>=1.2.0->azureml-dataprep<2.21.0a,>=2.20.0a->azureml-dataset-runtime) (2.10)\n",
            "Requirement already satisfied: certifi>=2017.4.17 in /usr/local/lib/python3.7/dist-packages (from requests>=2.18.4->azure-core<2.0.0,>=1.0.0->azure-identity<1.5.0,>=1.2.0->azureml-dataprep<2.21.0a,>=2.20.0a->azureml-dataset-runtime) (2021.5.30)\n",
            "Requirement already satisfied: chardet<4,>=3.0.2 in /usr/local/lib/python3.7/dist-packages (from requests>=2.18.4->azure-core<2.0.0,>=1.0.0->azure-identity<1.5.0,>=1.2.0->azureml-dataprep<2.21.0a,>=2.20.0a->azureml-dataset-runtime) (3.0.4)\n",
            "Requirement already satisfied: urllib3!=1.25.0,!=1.25.1,<1.26,>=1.21.1 in /usr/local/lib/python3.7/dist-packages (from requests>=2.18.4->azure-core<2.0.0,>=1.0.0->azure-identity<1.5.0,>=1.2.0->azureml-dataprep<2.21.0a,>=2.20.0a->azureml-dataset-runtime) (1.24.3)\n",
            "Installing collected packages: azureml-dataprep-rslex, azureml-dataprep, azureml-dataset-runtime\n",
            "  Attempting uninstall: azureml-dataprep-rslex\n",
            "    Found existing installation: azureml-dataprep-rslex 1.20.1\n",
            "    Uninstalling azureml-dataprep-rslex-1.20.1:\n",
            "      Successfully uninstalled azureml-dataprep-rslex-1.20.1\n",
            "  Attempting uninstall: azureml-dataprep\n",
            "    Found existing installation: azureml-dataprep 2.22.2\n",
            "    Uninstalling azureml-dataprep-2.22.2:\n",
            "      Successfully uninstalled azureml-dataprep-2.22.2\n",
            "Successfully installed azureml-dataprep-2.20.1 azureml-dataprep-rslex-1.18.2 azureml-dataset-runtime-1.33.0\n"
          ]
        }
      ]
    },
    {
      "cell_type": "code",
      "metadata": {
        "id": "_5B0Q0CjIcSn"
      },
      "source": [
        "from sklearn.model_selection import train_test_split\n",
        "from sklearn.ensemble import RandomForestClassifier as rfc\n",
        "from sklearn.linear_model import Ridge\n",
        "from sklearn.metrics import mean_squared_error\n",
        "from sklearn.externals import joblib\n",
        "import sklearn\n",
        "import math\n",
        "from azureml.core import Experiment\n",
        "import random\n",
        "import pandas as pd\n",
        "from sklearn.ensemble import RandomForestClassifier as rfc\n",
        "from sklearn.ensemble import RandomForestRegressor as rfr\n",
        "import uuid\n",
        "# O azureml-core da versão 1.0.72 ou superior é requerido\n",
        "# é necessário azureml-dataprep[pandas] na versão 1.1.34 ou superior\n",
        "from azureml.core import Workspace, Dataset"
      ],
      "execution_count": 4,
      "outputs": []
    },
    {
      "cell_type": "code",
      "metadata": {
        "id": "oRi0ynpAQXJp"
      },
      "source": [
        "from azureml.core import Model"
      ],
      "execution_count": 5,
      "outputs": []
    },
    {
      "cell_type": "code",
      "metadata": {
        "id": "hmU7rjl1IJCH"
      },
      "source": [
        "def get_a_funnyName():\n",
        "    f = open(\"azure-ml/datasets/names/funnynames.txt\", \"r\")\n",
        "    nomes = f.readlines()\n",
        "    return random.choice(nomes).rstrip('\\n')"
      ],
      "execution_count": 6,
      "outputs": []
    },
    {
      "cell_type": "markdown",
      "metadata": {
        "id": "suK9IqHdI17i"
      },
      "source": [
        "# Conexão"
      ]
    },
    {
      "cell_type": "code",
      "metadata": {
        "id": "OVh5aCvbIZV5",
        "colab": {
          "base_uri": "https://localhost:8080/"
        },
        "outputId": "68516454-df50-49ed-c58e-1b56e1a9c09e"
      },
      "source": [
        "#Trocar os códigos abaixo pelos da sua instância!\n",
        "subscription_id = '776ba552-1ae3-49f6-b78a-536d911d518e'\n",
        "resource_group = '17iabartira'\n",
        "workspace_name = 'ml-studio-17ia'\n",
        "\n",
        "workspace = Workspace(subscription_id, resource_group, workspace_name)"
      ],
      "execution_count": 7,
      "outputs": [
        {
          "output_type": "stream",
          "name": "stdout",
          "text": [
            "Performing interactive authentication. Please follow the instructions on the terminal.\n",
            "To sign in, use a web browser to open the page https://microsoft.com/devicelogin and enter the code E2G5PCMKG to authenticate.\n",
            "You have logged in. Now let us find all the subscriptions to which you have access...\n",
            "Interactive authentication successfully completed.\n"
          ]
        }
      ]
    },
    {
      "cell_type": "markdown",
      "metadata": {
        "id": "9env-yrvIo3-"
      },
      "source": [
        "# Carga de dados"
      ]
    },
    {
      "cell_type": "code",
      "metadata": {
        "id": "XZn5hxK3In1W",
        "colab": {
          "base_uri": "https://localhost:8080/",
          "height": 200
        },
        "outputId": "ba36dba9-cec1-4d0a-9470-f28d81007129"
      },
      "source": [
        "mydf = pd.read_csv('azure-ml/datasets/statistical/BaseDefault01.csv')\n",
        "mydf.head()"
      ],
      "execution_count": 8,
      "outputs": [
        {
          "output_type": "execute_result",
          "data": {
            "text/html": [
              "<div>\n",
              "<style scoped>\n",
              "    .dataframe tbody tr th:only-of-type {\n",
              "        vertical-align: middle;\n",
              "    }\n",
              "\n",
              "    .dataframe tbody tr th {\n",
              "        vertical-align: top;\n",
              "    }\n",
              "\n",
              "    .dataframe thead th {\n",
              "        text-align: right;\n",
              "    }\n",
              "</style>\n",
              "<table border=\"1\" class=\"dataframe\">\n",
              "  <thead>\n",
              "    <tr style=\"text-align: right;\">\n",
              "      <th></th>\n",
              "      <th>nome</th>\n",
              "      <th>renda</th>\n",
              "      <th>idade</th>\n",
              "      <th>etnia</th>\n",
              "      <th>sexo</th>\n",
              "      <th>casapropria</th>\n",
              "      <th>outrasrendas</th>\n",
              "      <th>estadocivil</th>\n",
              "      <th>escolaridade</th>\n",
              "      <th>default</th>\n",
              "    </tr>\n",
              "  </thead>\n",
              "  <tbody>\n",
              "    <tr>\n",
              "      <th>0</th>\n",
              "      <td>Simon, Rodriguez</td>\n",
              "      <td>4472.190323</td>\n",
              "      <td>42.036031</td>\n",
              "      <td>0</td>\n",
              "      <td>0</td>\n",
              "      <td>1</td>\n",
              "      <td>0</td>\n",
              "      <td>0</td>\n",
              "      <td>3</td>\n",
              "      <td>0</td>\n",
              "    </tr>\n",
              "    <tr>\n",
              "      <th>1</th>\n",
              "      <td>Daniel, Castro</td>\n",
              "      <td>4592.774312</td>\n",
              "      <td>48.230662</td>\n",
              "      <td>1</td>\n",
              "      <td>0</td>\n",
              "      <td>1</td>\n",
              "      <td>0</td>\n",
              "      <td>1</td>\n",
              "      <td>2</td>\n",
              "      <td>0</td>\n",
              "    </tr>\n",
              "    <tr>\n",
              "      <th>2</th>\n",
              "      <td>Myhue, Lin</td>\n",
              "      <td>2486.538807</td>\n",
              "      <td>56.881709</td>\n",
              "      <td>0</td>\n",
              "      <td>1</td>\n",
              "      <td>0</td>\n",
              "      <td>0</td>\n",
              "      <td>0</td>\n",
              "      <td>0</td>\n",
              "      <td>1</td>\n",
              "    </tr>\n",
              "    <tr>\n",
              "      <th>3</th>\n",
              "      <td>Destiny, Richardson-Pacheco</td>\n",
              "      <td>2852.340117</td>\n",
              "      <td>51.684021</td>\n",
              "      <td>1</td>\n",
              "      <td>1</td>\n",
              "      <td>0</td>\n",
              "      <td>0</td>\n",
              "      <td>0</td>\n",
              "      <td>2</td>\n",
              "      <td>1</td>\n",
              "    </tr>\n",
              "    <tr>\n",
              "      <th>4</th>\n",
              "      <td>Brittany, Cohen-Wilson</td>\n",
              "      <td>4703.782812</td>\n",
              "      <td>50.729078</td>\n",
              "      <td>1</td>\n",
              "      <td>1</td>\n",
              "      <td>1</td>\n",
              "      <td>0</td>\n",
              "      <td>1</td>\n",
              "      <td>2</td>\n",
              "      <td>0</td>\n",
              "    </tr>\n",
              "  </tbody>\n",
              "</table>\n",
              "</div>"
            ],
            "text/plain": [
              "                          nome        renda  ...  escolaridade  default\n",
              "0             Simon, Rodriguez  4472.190323  ...             3        0\n",
              "1               Daniel, Castro  4592.774312  ...             2        0\n",
              "2                   Myhue, Lin  2486.538807  ...             0        1\n",
              "3  Destiny, Richardson-Pacheco  2852.340117  ...             2        1\n",
              "4       Brittany, Cohen-Wilson  4703.782812  ...             2        0\n",
              "\n",
              "[5 rows x 10 columns]"
            ]
          },
          "metadata": {},
          "execution_count": 8
        }
      ]
    },
    {
      "cell_type": "code",
      "metadata": {
        "id": "cho9hOmWOVPb",
        "colab": {
          "base_uri": "https://localhost:8080/",
          "height": 200
        },
        "outputId": "1f6d4c0f-4ebc-4d26-e9ed-99d7194387c6"
      },
      "source": [
        "dataset = Dataset.get_by_name(workspace, name='riscocredito')\n",
        "df = dataset.to_pandas_dataframe()\n",
        "df.head()"
      ],
      "execution_count": 9,
      "outputs": [
        {
          "output_type": "execute_result",
          "data": {
            "text/html": [
              "<div>\n",
              "<style scoped>\n",
              "    .dataframe tbody tr th:only-of-type {\n",
              "        vertical-align: middle;\n",
              "    }\n",
              "\n",
              "    .dataframe tbody tr th {\n",
              "        vertical-align: top;\n",
              "    }\n",
              "\n",
              "    .dataframe thead th {\n",
              "        text-align: right;\n",
              "    }\n",
              "</style>\n",
              "<table border=\"1\" class=\"dataframe\">\n",
              "  <thead>\n",
              "    <tr style=\"text-align: right;\">\n",
              "      <th></th>\n",
              "      <th>nome</th>\n",
              "      <th>renda</th>\n",
              "      <th>idade</th>\n",
              "      <th>etnia</th>\n",
              "      <th>sexo</th>\n",
              "      <th>casapropria</th>\n",
              "      <th>outrasrendas</th>\n",
              "      <th>estadocivil</th>\n",
              "      <th>escolaridade</th>\n",
              "      <th>default</th>\n",
              "    </tr>\n",
              "  </thead>\n",
              "  <tbody>\n",
              "    <tr>\n",
              "      <th>0</th>\n",
              "      <td>Simon, Rodriguez</td>\n",
              "      <td>4472.190323</td>\n",
              "      <td>42.036031</td>\n",
              "      <td>0</td>\n",
              "      <td>0</td>\n",
              "      <td>1</td>\n",
              "      <td>0</td>\n",
              "      <td>0</td>\n",
              "      <td>3</td>\n",
              "      <td>0</td>\n",
              "    </tr>\n",
              "    <tr>\n",
              "      <th>1</th>\n",
              "      <td>Daniel, Castro</td>\n",
              "      <td>4592.774312</td>\n",
              "      <td>48.230662</td>\n",
              "      <td>1</td>\n",
              "      <td>0</td>\n",
              "      <td>1</td>\n",
              "      <td>0</td>\n",
              "      <td>1</td>\n",
              "      <td>2</td>\n",
              "      <td>0</td>\n",
              "    </tr>\n",
              "    <tr>\n",
              "      <th>2</th>\n",
              "      <td>Myhue, Lin</td>\n",
              "      <td>2486.538807</td>\n",
              "      <td>56.881709</td>\n",
              "      <td>0</td>\n",
              "      <td>1</td>\n",
              "      <td>0</td>\n",
              "      <td>0</td>\n",
              "      <td>0</td>\n",
              "      <td>0</td>\n",
              "      <td>1</td>\n",
              "    </tr>\n",
              "    <tr>\n",
              "      <th>3</th>\n",
              "      <td>Destiny, Richardson-Pacheco</td>\n",
              "      <td>2852.340117</td>\n",
              "      <td>51.684021</td>\n",
              "      <td>1</td>\n",
              "      <td>1</td>\n",
              "      <td>0</td>\n",
              "      <td>0</td>\n",
              "      <td>0</td>\n",
              "      <td>2</td>\n",
              "      <td>1</td>\n",
              "    </tr>\n",
              "    <tr>\n",
              "      <th>4</th>\n",
              "      <td>Brittany, Cohen-Wilson</td>\n",
              "      <td>4703.782812</td>\n",
              "      <td>50.729078</td>\n",
              "      <td>1</td>\n",
              "      <td>1</td>\n",
              "      <td>1</td>\n",
              "      <td>0</td>\n",
              "      <td>1</td>\n",
              "      <td>2</td>\n",
              "      <td>0</td>\n",
              "    </tr>\n",
              "  </tbody>\n",
              "</table>\n",
              "</div>"
            ],
            "text/plain": [
              "                          nome        renda  ...  escolaridade  default\n",
              "0             Simon, Rodriguez  4472.190323  ...             3        0\n",
              "1               Daniel, Castro  4592.774312  ...             2        0\n",
              "2                   Myhue, Lin  2486.538807  ...             0        1\n",
              "3  Destiny, Richardson-Pacheco  2852.340117  ...             2        1\n",
              "4       Brittany, Cohen-Wilson  4703.782812  ...             2        0\n",
              "\n",
              "[5 rows x 10 columns]"
            ]
          },
          "metadata": {},
          "execution_count": 9
        }
      ]
    },
    {
      "cell_type": "markdown",
      "metadata": {
        "id": "Z0R5epW7ImaD"
      },
      "source": [
        "# Treinamento"
      ]
    },
    {
      "cell_type": "markdown",
      "metadata": {
        "id": "t8GQvfh7KtBR"
      },
      "source": [
        "Identifica no dataset as variáveis independentes e a variavel alvo"
      ]
    },
    {
      "cell_type": "code",
      "metadata": {
        "id": "heZL--aQIuBj"
      },
      "source": [
        "targetcol = 'default'\n",
        "y = mydf[targetcol]"
      ],
      "execution_count": 10,
      "outputs": []
    },
    {
      "cell_type": "markdown",
      "metadata": {
        "id": "vfA2s7A2KvJz"
      },
      "source": [
        "Cria experimento"
      ]
    },
    {
      "cell_type": "code",
      "metadata": {
        "id": "Vdok5L_BJO36"
      },
      "source": [
        "experiment = Experiment(workspace=workspace, name=\"Experimento_Banco\")"
      ],
      "execution_count": null,
      "outputs": []
    },
    {
      "cell_type": "markdown",
      "metadata": {
        "id": "vONEcCfCKzcs"
      },
      "source": [
        "## Treina modelo 01 (Classificador)"
      ]
    },
    {
      "cell_type": "markdown",
      "metadata": {
        "id": "jaWEEOzXL48l"
      },
      "source": [
        "Cria uma execução para o experimento"
      ]
    },
    {
      "cell_type": "code",
      "metadata": {
        "id": "7cqi3jgrL9Os"
      },
      "source": [
        "run = experiment.start_logging(run_id= \"Classificador1_\" + str( uuid.uuid1() ) )\n",
        "run.log(\"Tipo\", \"Classificador\")"
      ],
      "execution_count": null,
      "outputs": []
    },
    {
      "cell_type": "code",
      "metadata": {
        "id": "rmNQYJTiJTMo",
        "colab": {
          "base_uri": "https://localhost:8080/"
        },
        "outputId": "4a0c96eb-220a-4958-e4a2-2de958e34582"
      },
      "source": [
        "independentcols = ['renda', 'idade', 'etnia', 'sexo', 'casapropria', 'outrasrendas', 'estadocivil', 'escolaridade']\n",
        "x = mydf[independentcols]\n",
        "clf = rfc()\n",
        "clf.fit(X=x, y=y)\n",
        "clf.independentcols = independentcols"
      ],
      "execution_count": null,
      "outputs": [
        {
          "output_type": "stream",
          "text": [
            "/usr/local/lib/python3.7/dist-packages/sklearn/ensemble/forest.py:246: FutureWarning: The default value of n_estimators will change from 10 in version 0.20 to 100 in 0.22.\n",
            "  \"10 in version 0.20 to 100 in 0.22.\", FutureWarning)\n"
          ],
          "name": "stderr"
        }
      ]
    },
    {
      "cell_type": "markdown",
      "metadata": {
        "id": "O3iiNudfK4mD"
      },
      "source": [
        "Avaliações e Logs"
      ]
    },
    {
      "cell_type": "code",
      "metadata": {
        "id": "B0eStUJMKfKJ",
        "colab": {
          "base_uri": "https://localhost:8080/"
        },
        "outputId": "aab08dc9-7ad4-44f4-a794-115ce5ead0ec"
      },
      "source": [
        "clf_acuracia = clf.score(X=x, y=y)\n",
        "print(\"Modelo 01 (classificador), criado com acurácia de: [{0}]\".format(clf_acuracia))\n",
        "run.log(\"acuracia\", clf_acuracia)"
      ],
      "execution_count": null,
      "outputs": [
        {
          "output_type": "stream",
          "text": [
            "Modelo 01 (classificador), criado com acurácia de: [0.98834]\n"
          ],
          "name": "stdout"
        }
      ]
    },
    {
      "cell_type": "code",
      "metadata": {
        "id": "u9kTVxugK-ry"
      },
      "source": [
        "#Demais logs (não serão comparados)\n",
        "run.log(\"Versao sklearn\", sklearn.__version__)\n",
        "run.log(\"criterion\", clf.criterion)\n",
        "run.log(\"n_estimators\", clf.n_estimators)\n",
        "run.log(\"min_samples_leaf\", clf.min_samples_leaf)\n",
        "run.log(\"max_depth\",  str(clf.max_depth))\n",
        "run.log_list(\"Inputs\", independentcols)"
      ],
      "execution_count": null,
      "outputs": []
    },
    {
      "cell_type": "markdown",
      "metadata": {
        "id": "cInn2_XSLBcX"
      },
      "source": [
        "Exporta o modelo"
      ]
    },
    {
      "cell_type": "code",
      "metadata": {
        "id": "YcDgH7oqK_tj",
        "colab": {
          "base_uri": "https://localhost:8080/"
        },
        "outputId": "3295600f-ce03-4818-c921-7cf16bdc1bc9"
      },
      "source": [
        "model_name = \"nome_arquivo.pkl\"\n",
        "filename = \"outputs/\" + model_name\n",
        "joblib.dump(value=clf, filename=filename)"
      ],
      "execution_count": null,
      "outputs": [
        {
          "output_type": "stream",
          "text": [
            "/usr/local/lib/python3.7/dist-packages/sklearn/externals/joblib/numpy_pickle.py:104: DeprecationWarning: tostring() is deprecated. Use tobytes() instead.\n",
            "  pickler.file_handle.write(chunk.tostring('C'))\n",
            "/usr/local/lib/python3.7/dist-packages/sklearn/externals/joblib/numpy_pickle.py:104: DeprecationWarning: tostring() is deprecated. Use tobytes() instead.\n",
            "  pickler.file_handle.write(chunk.tostring('C'))\n",
            "/usr/local/lib/python3.7/dist-packages/sklearn/externals/joblib/numpy_pickle.py:104: DeprecationWarning: tostring() is deprecated. Use tobytes() instead.\n",
            "  pickler.file_handle.write(chunk.tostring('C'))\n",
            "/usr/local/lib/python3.7/dist-packages/sklearn/externals/joblib/numpy_pickle.py:104: DeprecationWarning: tostring() is deprecated. Use tobytes() instead.\n",
            "  pickler.file_handle.write(chunk.tostring('C'))\n",
            "/usr/local/lib/python3.7/dist-packages/sklearn/externals/joblib/numpy_pickle.py:104: DeprecationWarning: tostring() is deprecated. Use tobytes() instead.\n",
            "  pickler.file_handle.write(chunk.tostring('C'))\n",
            "/usr/local/lib/python3.7/dist-packages/sklearn/externals/joblib/numpy_pickle.py:104: DeprecationWarning: tostring() is deprecated. Use tobytes() instead.\n",
            "  pickler.file_handle.write(chunk.tostring('C'))\n",
            "/usr/local/lib/python3.7/dist-packages/sklearn/externals/joblib/numpy_pickle.py:104: DeprecationWarning: tostring() is deprecated. Use tobytes() instead.\n",
            "  pickler.file_handle.write(chunk.tostring('C'))\n",
            "/usr/local/lib/python3.7/dist-packages/sklearn/externals/joblib/numpy_pickle.py:104: DeprecationWarning: tostring() is deprecated. Use tobytes() instead.\n",
            "  pickler.file_handle.write(chunk.tostring('C'))\n",
            "/usr/local/lib/python3.7/dist-packages/sklearn/externals/joblib/numpy_pickle.py:104: DeprecationWarning: tostring() is deprecated. Use tobytes() instead.\n",
            "  pickler.file_handle.write(chunk.tostring('C'))\n",
            "/usr/local/lib/python3.7/dist-packages/sklearn/externals/joblib/numpy_pickle.py:104: DeprecationWarning: tostring() is deprecated. Use tobytes() instead.\n",
            "  pickler.file_handle.write(chunk.tostring('C'))\n",
            "/usr/local/lib/python3.7/dist-packages/sklearn/externals/joblib/numpy_pickle.py:104: DeprecationWarning: tostring() is deprecated. Use tobytes() instead.\n",
            "  pickler.file_handle.write(chunk.tostring('C'))\n",
            "/usr/local/lib/python3.7/dist-packages/sklearn/externals/joblib/numpy_pickle.py:104: DeprecationWarning: tostring() is deprecated. Use tobytes() instead.\n",
            "  pickler.file_handle.write(chunk.tostring('C'))\n",
            "/usr/local/lib/python3.7/dist-packages/sklearn/externals/joblib/numpy_pickle.py:104: DeprecationWarning: tostring() is deprecated. Use tobytes() instead.\n",
            "  pickler.file_handle.write(chunk.tostring('C'))\n",
            "/usr/local/lib/python3.7/dist-packages/sklearn/externals/joblib/numpy_pickle.py:104: DeprecationWarning: tostring() is deprecated. Use tobytes() instead.\n",
            "  pickler.file_handle.write(chunk.tostring('C'))\n",
            "/usr/local/lib/python3.7/dist-packages/sklearn/externals/joblib/numpy_pickle.py:104: DeprecationWarning: tostring() is deprecated. Use tobytes() instead.\n",
            "  pickler.file_handle.write(chunk.tostring('C'))\n",
            "/usr/local/lib/python3.7/dist-packages/sklearn/externals/joblib/numpy_pickle.py:104: DeprecationWarning: tostring() is deprecated. Use tobytes() instead.\n",
            "  pickler.file_handle.write(chunk.tostring('C'))\n",
            "/usr/local/lib/python3.7/dist-packages/sklearn/externals/joblib/numpy_pickle.py:104: DeprecationWarning: tostring() is deprecated. Use tobytes() instead.\n",
            "  pickler.file_handle.write(chunk.tostring('C'))\n",
            "/usr/local/lib/python3.7/dist-packages/sklearn/externals/joblib/numpy_pickle.py:104: DeprecationWarning: tostring() is deprecated. Use tobytes() instead.\n",
            "  pickler.file_handle.write(chunk.tostring('C'))\n",
            "/usr/local/lib/python3.7/dist-packages/sklearn/externals/joblib/numpy_pickle.py:104: DeprecationWarning: tostring() is deprecated. Use tobytes() instead.\n",
            "  pickler.file_handle.write(chunk.tostring('C'))\n",
            "/usr/local/lib/python3.7/dist-packages/sklearn/externals/joblib/numpy_pickle.py:104: DeprecationWarning: tostring() is deprecated. Use tobytes() instead.\n",
            "  pickler.file_handle.write(chunk.tostring('C'))\n",
            "/usr/local/lib/python3.7/dist-packages/sklearn/externals/joblib/numpy_pickle.py:104: DeprecationWarning: tostring() is deprecated. Use tobytes() instead.\n",
            "  pickler.file_handle.write(chunk.tostring('C'))\n",
            "/usr/local/lib/python3.7/dist-packages/sklearn/externals/joblib/numpy_pickle.py:104: DeprecationWarning: tostring() is deprecated. Use tobytes() instead.\n",
            "  pickler.file_handle.write(chunk.tostring('C'))\n",
            "/usr/local/lib/python3.7/dist-packages/sklearn/externals/joblib/numpy_pickle.py:104: DeprecationWarning: tostring() is deprecated. Use tobytes() instead.\n",
            "  pickler.file_handle.write(chunk.tostring('C'))\n",
            "/usr/local/lib/python3.7/dist-packages/sklearn/externals/joblib/numpy_pickle.py:104: DeprecationWarning: tostring() is deprecated. Use tobytes() instead.\n",
            "  pickler.file_handle.write(chunk.tostring('C'))\n",
            "/usr/local/lib/python3.7/dist-packages/sklearn/externals/joblib/numpy_pickle.py:104: DeprecationWarning: tostring() is deprecated. Use tobytes() instead.\n",
            "  pickler.file_handle.write(chunk.tostring('C'))\n",
            "/usr/local/lib/python3.7/dist-packages/sklearn/externals/joblib/numpy_pickle.py:104: DeprecationWarning: tostring() is deprecated. Use tobytes() instead.\n",
            "  pickler.file_handle.write(chunk.tostring('C'))\n",
            "/usr/local/lib/python3.7/dist-packages/sklearn/externals/joblib/numpy_pickle.py:104: DeprecationWarning: tostring() is deprecated. Use tobytes() instead.\n",
            "  pickler.file_handle.write(chunk.tostring('C'))\n",
            "/usr/local/lib/python3.7/dist-packages/sklearn/externals/joblib/numpy_pickle.py:104: DeprecationWarning: tostring() is deprecated. Use tobytes() instead.\n",
            "  pickler.file_handle.write(chunk.tostring('C'))\n",
            "/usr/local/lib/python3.7/dist-packages/sklearn/externals/joblib/numpy_pickle.py:104: DeprecationWarning: tostring() is deprecated. Use tobytes() instead.\n",
            "  pickler.file_handle.write(chunk.tostring('C'))\n",
            "/usr/local/lib/python3.7/dist-packages/sklearn/externals/joblib/numpy_pickle.py:104: DeprecationWarning: tostring() is deprecated. Use tobytes() instead.\n",
            "  pickler.file_handle.write(chunk.tostring('C'))\n",
            "/usr/local/lib/python3.7/dist-packages/sklearn/externals/joblib/numpy_pickle.py:104: DeprecationWarning: tostring() is deprecated. Use tobytes() instead.\n",
            "  pickler.file_handle.write(chunk.tostring('C'))\n",
            "/usr/local/lib/python3.7/dist-packages/sklearn/externals/joblib/numpy_pickle.py:104: DeprecationWarning: tostring() is deprecated. Use tobytes() instead.\n",
            "  pickler.file_handle.write(chunk.tostring('C'))\n",
            "/usr/local/lib/python3.7/dist-packages/sklearn/externals/joblib/numpy_pickle.py:104: DeprecationWarning: tostring() is deprecated. Use tobytes() instead.\n",
            "  pickler.file_handle.write(chunk.tostring('C'))\n",
            "/usr/local/lib/python3.7/dist-packages/sklearn/externals/joblib/numpy_pickle.py:104: DeprecationWarning: tostring() is deprecated. Use tobytes() instead.\n",
            "  pickler.file_handle.write(chunk.tostring('C'))\n",
            "/usr/local/lib/python3.7/dist-packages/sklearn/externals/joblib/numpy_pickle.py:104: DeprecationWarning: tostring() is deprecated. Use tobytes() instead.\n",
            "  pickler.file_handle.write(chunk.tostring('C'))\n",
            "/usr/local/lib/python3.7/dist-packages/sklearn/externals/joblib/numpy_pickle.py:104: DeprecationWarning: tostring() is deprecated. Use tobytes() instead.\n",
            "  pickler.file_handle.write(chunk.tostring('C'))\n",
            "/usr/local/lib/python3.7/dist-packages/sklearn/externals/joblib/numpy_pickle.py:104: DeprecationWarning: tostring() is deprecated. Use tobytes() instead.\n",
            "  pickler.file_handle.write(chunk.tostring('C'))\n",
            "/usr/local/lib/python3.7/dist-packages/sklearn/externals/joblib/numpy_pickle.py:104: DeprecationWarning: tostring() is deprecated. Use tobytes() instead.\n",
            "  pickler.file_handle.write(chunk.tostring('C'))\n",
            "/usr/local/lib/python3.7/dist-packages/sklearn/externals/joblib/numpy_pickle.py:104: DeprecationWarning: tostring() is deprecated. Use tobytes() instead.\n",
            "  pickler.file_handle.write(chunk.tostring('C'))\n",
            "/usr/local/lib/python3.7/dist-packages/sklearn/externals/joblib/numpy_pickle.py:104: DeprecationWarning: tostring() is deprecated. Use tobytes() instead.\n",
            "  pickler.file_handle.write(chunk.tostring('C'))\n",
            "/usr/local/lib/python3.7/dist-packages/sklearn/externals/joblib/numpy_pickle.py:104: DeprecationWarning: tostring() is deprecated. Use tobytes() instead.\n",
            "  pickler.file_handle.write(chunk.tostring('C'))\n"
          ],
          "name": "stderr"
        },
        {
          "output_type": "execute_result",
          "data": {
            "text/plain": [
              "['outputs/nome_arquivo.pkl']"
            ]
          },
          "metadata": {},
          "execution_count": 16
        }
      ]
    },
    {
      "cell_type": "markdown",
      "metadata": {
        "id": "dlNU5yWHLOXA"
      },
      "source": [
        "Upload do arquivo, deve demorar um pouco"
      ]
    },
    {
      "cell_type": "code",
      "metadata": {
        "id": "CsMX60WPLDge",
        "colab": {
          "base_uri": "https://localhost:8080/"
        },
        "outputId": "497a88ad-3a68-405f-8bc6-f0e3c8839bcc"
      },
      "source": [
        "run.upload_file(name=model_name, path_or_stream=filename)"
      ],
      "execution_count": null,
      "outputs": [
        {
          "output_type": "execute_result",
          "data": {
            "text/plain": [
              "<azureml._restclient.models.batch_artifact_content_information_dto.BatchArtifactContentInformationDto at 0x7f139588cb90>"
            ]
          },
          "metadata": {},
          "execution_count": 17
        }
      ]
    },
    {
      "cell_type": "code",
      "metadata": {
        "colab": {
          "base_uri": "https://localhost:8080/"
        },
        "id": "6Yh0rYolqSMC",
        "outputId": "a612e85d-8dd1-4221-f39a-7a737b66a217"
      },
      "source": [
        "ls -l outputs"
      ],
      "execution_count": null,
      "outputs": [
        {
          "output_type": "stream",
          "text": [
            "total 15928\n",
            "-rw-r--r-- 1 root root 16310191 Aug 29 22:30 nome_arquivo.pkl\n"
          ],
          "name": "stdout"
        }
      ]
    },
    {
      "cell_type": "markdown",
      "metadata": {
        "id": "ffJHmvWdLqzt"
      },
      "source": [
        "Finaliza o experimento"
      ]
    },
    {
      "cell_type": "code",
      "metadata": {
        "id": "v-TI9v7CLPpc"
      },
      "source": [
        "run.complete()"
      ],
      "execution_count": null,
      "outputs": []
    },
    {
      "cell_type": "markdown",
      "metadata": {
        "id": "DwH7a5fqeS_d"
      },
      "source": [
        "# Atividade 1 : Análise na Azure"
      ]
    },
    {
      "cell_type": "markdown",
      "metadata": {
        "id": "OMxbK7gHf64b"
      },
      "source": [
        "Crie n modelos, e envie para a Azure. Em seguida, compare os resultados dentro da plataforma.  \n",
        "\n",
        "Obs.:  \n",
        "n = 8 $\\times$ 4 $\\times$ 3"
      ]
    },
    {
      "cell_type": "code",
      "metadata": {
        "id": "CSCs0xhSuEW_"
      },
      "source": [
        "experiment = Experiment(workspace=workspace, name=\"Experimento_RiscoCredito\")"
      ],
      "execution_count": null,
      "outputs": []
    },
    {
      "cell_type": "code",
      "metadata": {
        "id": "6I7iB9wDeVCw"
      },
      "source": [
        "n_estimators = [1, 2, 3, 5, 10, 20, 30, 100]\n",
        "max_depth = [1, 2, 3, None]\n",
        "min_samples_leaf = [10, 5, 1]"
      ],
      "execution_count": null,
      "outputs": []
    },
    {
      "cell_type": "code",
      "metadata": {
        "id": "XctN9Z7At7NF"
      },
      "source": [
        "modelo=0\n",
        "for i in n_estimators:\n",
        "  print(i)\n",
        "  for j in max_depth:\n",
        "    print(j)\n",
        "    for n in min_samples_leaf:\n",
        "      print(n)\n",
        "      modelo=modelo+1\n",
        "      run = experiment.start_logging(run_id= \"Classificador1_\" + str( uuid.uuid1() ) )\n",
        "      run.log(\"Tipo\", \"Classificador\")\n",
        "      independentcols = ['renda', 'idade', 'etnia', 'sexo', 'casapropria', 'outrasrendas', 'estadocivil', 'escolaridade']\n",
        "      \n",
        "      x = mydf[independentcols]\n",
        "      clf = rfc(n_estimators=i,max_depth=j,min_samples_leaf=n)\n",
        "      clf.fit(X=x, y=y)\n",
        "      clf.independentcols = independentcols\n",
        "\n",
        "      clf_acuracia = clf.score(X=x, y=y)\n",
        "      print(\"Modelo \",modelo,\" (classificador), criado com acurácia de: [{0}]\".format(clf_acuracia))\n",
        "      run.log(\"acuracia\", clf_acuracia)\n",
        "\n",
        "      run.log(\"Versao sklearn\", sklearn.__version__)\n",
        "      run.log(\"criterion\", clf.criterion)\n",
        "      run.log(\"n_estimators\", clf.n_estimators)\n",
        "      run.log(\"min_samples_leaf\", clf.min_samples_leaf)\n",
        "      run.log(\"max_depth\",  str(clf.max_depth))\n",
        "      run.log_list(\"Inputs\", independentcols)\n",
        "      \n",
        "      model_name = \"nome_arquivo.pkl\"\n",
        "      filename = \"outputs/\" + model_name\n",
        "      joblib.dump(value=clf, filename=filename)\n",
        "\n",
        "      run.upload_file(name=model_name, path_or_stream=filename)\n",
        "      run.complete()\n",
        "\n",
        "print(\"final\")"
      ],
      "execution_count": null,
      "outputs": []
    },
    {
      "cell_type": "markdown",
      "metadata": {
        "id": "CkDpalD0LV4S"
      },
      "source": [
        "# Atividade 2 : Regressor\n",
        "\n",
        "Treinar um segundo modelo (Regressor sem a variavel etnia)"
      ]
    },
    {
      "cell_type": "code",
      "metadata": {
        "id": "tEnea3IVLYEC"
      },
      "source": [
        "independentcols = ['renda', 'idade', 'sexo', 'casapropria', 'outrasrendas', 'estadocivil', 'escolaridade']"
      ],
      "execution_count": 34,
      "outputs": []
    },
    {
      "cell_type": "markdown",
      "metadata": {
        "id": "tULAGP7hLhBU"
      },
      "source": [
        "- Usar o classificador acima como modelo\n",
        "- Gravar log de algumas variáveis\n",
        "- Gravar log da acurácia\n",
        "- Exportar o modelo em arquivo\n",
        "- Enviar para AZURE Cloud"
      ]
    },
    {
      "cell_type": "code",
      "metadata": {
        "id": "oxJZdAN4fG_w"
      },
      "source": [
        "# Upload direto\n",
        "# modelo = Model.register(workspace=workspace, model_name=\"ModeloUploadDireto\", \n",
        "#                        model_framework=Model.Framework.SCIKITLEARN,\n",
        "#                        model_framework_version='0.20.3',\n",
        "#                        model_path=filename)\n",
        "#                        model_path=filename)"
      ],
      "execution_count": null,
      "outputs": []
    },
    {
      "cell_type": "code",
      "metadata": {
        "id": "p_9JWW-kN7Rg"
      },
      "source": [
        "experiment = Experiment(workspace=workspace, name=\"Experimento_regressor\")"
      ],
      "execution_count": 35,
      "outputs": []
    },
    {
      "cell_type": "code",
      "metadata": {
        "id": "awNtLBbPOa0g"
      },
      "source": [
        "run = experiment.start_logging(run_id= \"Classificador1_\" + str( uuid.uuid1() ) )\n",
        "run.log(\"Tipo\", \"Regressor\")"
      ],
      "execution_count": 36,
      "outputs": []
    },
    {
      "cell_type": "code",
      "metadata": {
        "colab": {
          "base_uri": "https://localhost:8080/"
        },
        "id": "5Nl9djooOa0g",
        "outputId": "763b1806-d922-4513-b497-83ba1aa9be9a"
      },
      "source": [
        "independentcols = ['renda', 'idade', 'sexo', 'casapropria', 'outrasrendas', 'estadocivil', 'escolaridade']\n",
        "x = mydf[independentcols]\n",
        "clf = rfr()\n",
        "clf.fit(X=x, y=y)\n",
        "clf.independentcols = independentcols"
      ],
      "execution_count": 37,
      "outputs": [
        {
          "output_type": "stream",
          "name": "stderr",
          "text": [
            "/usr/local/lib/python3.7/dist-packages/sklearn/ensemble/forest.py:246: FutureWarning: The default value of n_estimators will change from 10 in version 0.20 to 100 in 0.22.\n",
            "  \"10 in version 0.20 to 100 in 0.22.\", FutureWarning)\n"
          ]
        }
      ]
    },
    {
      "cell_type": "markdown",
      "metadata": {
        "id": "KJuS2zaPOa0h"
      },
      "source": [
        "Avaliações e Logs"
      ]
    },
    {
      "cell_type": "code",
      "metadata": {
        "colab": {
          "base_uri": "https://localhost:8080/"
        },
        "id": "L0QR5SlAOa0h",
        "outputId": "727d86b1-732f-4626-f715-6feac12aaa00"
      },
      "source": [
        "clf_acuracia = clf.score(X=x, y=y)\n",
        "print(\"Modelo 01 (regressor), criado com acurácia de: [{0}]\".format(clf_acuracia))\n",
        "run.log(\"acuracia\", clf_acuracia)"
      ],
      "execution_count": 38,
      "outputs": [
        {
          "output_type": "stream",
          "name": "stdout",
          "text": [
            "Modelo 01 (regressor), criado com acurácia de: [0.9183176429509391]\n"
          ]
        }
      ]
    },
    {
      "cell_type": "code",
      "metadata": {
        "id": "zvoedF1sOa0h"
      },
      "source": [
        "#Demais logs (não serão comparados)\n",
        "run.log(\"Versao sklearn\", sklearn.__version__)\n",
        "run.log(\"criterion\", clf.criterion)\n",
        "run.log(\"n_estimators\", clf.n_estimators)\n",
        "run.log(\"min_samples_leaf\", clf.min_samples_leaf)\n",
        "run.log(\"max_depth\",  str(clf.max_depth))\n",
        "run.log_list(\"Inputs\", independentcols)"
      ],
      "execution_count": 39,
      "outputs": []
    },
    {
      "cell_type": "markdown",
      "metadata": {
        "id": "uJ8jO_qbOa0h"
      },
      "source": [
        "Exporta o modelo"
      ]
    },
    {
      "cell_type": "code",
      "metadata": {
        "id": "cRtEoes0Oa0i"
      },
      "source": [
        "model_name = \"atividade2.pkl\"\n",
        "filename = \"outputs/\" + model_name\n",
        "joblib.dump(value=clf, filename=filename)"
      ],
      "execution_count": null,
      "outputs": []
    },
    {
      "cell_type": "markdown",
      "metadata": {
        "id": "D1apiKwNOa0i"
      },
      "source": [
        "Upload do arquivo, deve demorar um pouco"
      ]
    },
    {
      "cell_type": "code",
      "metadata": {
        "colab": {
          "base_uri": "https://localhost:8080/"
        },
        "id": "_hvbG_kWOa0i",
        "outputId": "4e166a1e-9c4b-45cb-9689-f87d6a300db6"
      },
      "source": [
        "run.upload_file(name=model_name, path_or_stream=filename)"
      ],
      "execution_count": 41,
      "outputs": [
        {
          "output_type": "execute_result",
          "data": {
            "text/plain": [
              "<azureml._restclient.models.batch_artifact_content_information_dto.BatchArtifactContentInformationDto at 0x7f1c208704d0>"
            ]
          },
          "metadata": {},
          "execution_count": 41
        }
      ]
    },
    {
      "cell_type": "code",
      "metadata": {
        "colab": {
          "base_uri": "https://localhost:8080/"
        },
        "id": "gzTbDkN3Oa0i",
        "outputId": "8a7a5d84-284d-49b1-95af-2e71413d5bd6"
      },
      "source": [
        "ls -l outputs"
      ],
      "execution_count": 42,
      "outputs": [
        {
          "output_type": "stream",
          "name": "stdout",
          "text": [
            "total 12360\n",
            "-rw-r--r-- 1 root root 12654248 Aug 30 23:12 atividade2.pkl\n"
          ]
        }
      ]
    },
    {
      "cell_type": "markdown",
      "metadata": {
        "id": "m3zSR4RzOa0i"
      },
      "source": [
        "Finaliza o experimento"
      ]
    },
    {
      "cell_type": "code",
      "metadata": {
        "id": "ZdyS1VTSOa0i"
      },
      "source": [
        "run.complete()"
      ],
      "execution_count": 43,
      "outputs": []
    },
    {
      "cell_type": "code",
      "metadata": {
        "colab": {
          "base_uri": "https://localhost:8080/"
        },
        "id": "cKtuIV2tWulG",
        "outputId": "548cb5c9-e902-46d6-ef9f-516fd45158c7"
      },
      "source": [
        "#Upload direto\n",
        "modelo = Model.register(workspace=workspace, model_name=\"meuUploadDireto\", \n",
        "                       model_framework=Model.Framework.SCIKITLEARN,\n",
        "                       model_framework_version='0.20.3',\n",
        "                       model_path=filename)\n"
      ],
      "execution_count": 45,
      "outputs": [
        {
          "output_type": "stream",
          "name": "stdout",
          "text": [
            "Registering model meuUploadDireto\n"
          ]
        }
      ]
    }
  ]
}